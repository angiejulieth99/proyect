{
  "cells": [
    {
      "attachments": {},
      "cell_type": "markdown",
      "metadata": {},
      "source": [
        "<center>\n",
        "    <img src=\"https://cf-courses-data.s3.us.cloud-object-storage.appdomain.cloud/IBMDeveloperSkillsNetwork-DS0105EN-SkillsNetwork/labs/Module2/images/SN_web_lightmode.png\" width=\"300\" alt=\"cognitiveclass.ai logo\">\n",
        "</center>\n"
      ]
    },
    {
      "attachments": {},
      "cell_type": "markdown",
      "metadata": {},
      "source": [
        "#### Add your code below following the instructions given in the course\n"
      ]
    },
    {
      "attachments": {},
      "cell_type": "markdown",
      "metadata": {},
      "source": [
        "# H1: **Data Science Tools and environnement**"
      ]
    },
    {
      "attachments": {},
      "cell_type": "markdown",
      "metadata": {},
      "source": [
        "***Data Science Tools and Ecosystem are discussed in this notebook***"
      ]
    },
    {
      "attachments": {},
      "cell_type": "markdown",
      "metadata": {},
      "source": [
        "*A List of some of the Popular Data Science Languages*\n",
        "- Python\n",
        "- R\n",
        "- SQL\n",
        "- Javascript\n",
        "- scala\n",
        "- Julia\n",
        "- C++\n",
        "- Php\n",
        "- Visual Basic\n",
        "- Ruby\n",
        "- Go"
      ]
    },
    {
      "attachments": {},
      "cell_type": "markdown",
      "metadata": {},
      "source": [
        "*A List of some of the common Data Science Libraries*\n",
        "- Tensorflow\n",
        "- Numpy\n",
        "- Pandas\n",
        "- Matplotlib\n",
        "- Sccikit\n",
        "- Vegas\n",
        "- Gpolt2\n",
        "- Apache spark\n",
        "- Keras\n",
        "- Seaborn\n",
        "- Pytorch\n",
        "- Big DL\n"
      ]
    },
    {
      "attachments": {},
      "cell_type": "markdown",
      "metadata": {},
      "source": [
        "*Table of Data Science Tools*\n",
        "|Tool|Use-Case|\n",
        "|------|------|\n",
        "|Python|Data Cleaning, Manipulation & Visualisation|\n",
        "|Apache Spark|Analytical engine for processing large data sets|\n",
        "|Tableau|Interactice Data Visualisation Tool|\n",
        "|Matplotlib|Plotting Library for Python|"
      ]
    },
    {
      "attachments": {},
      "cell_type": "markdown",
      "metadata": {},
      "source": [
        "# H1 *You will find below a few examples for evaluating arithmetic expressions in python*"
      ]
    },
    {
      "cell_type": "code",
      "execution_count": 9,
      "metadata": {
        "trusted": true
      },
      "outputs": [
        {
          "name": "stdout",
          "output_type": "stream",
          "text": [
            "17\n"
          ]
        }
      ],
      "source": [
        "# This is a  Basic Arithmetic application multiply then add\n",
        "a=3\n",
        "b=4\n",
        "c=5\n",
        "print ((a*b)+c)"
      ]
    },
    {
      "cell_type": "code",
      "execution_count": 10,
      "metadata": {
        "trusted": true
      },
      "outputs": [
        {
          "name": "stdout",
          "output_type": "stream",
          "text": [
            "3.3333333333333335\n"
          ]
        }
      ],
      "source": [
        "# Minutes to Hours Calculator application\n",
        "minutes=200\n",
        "hours=(minutes/60)\n",
        "print (hours)"
      ]
    },
    {
      "attachments": {},
      "cell_type": "markdown",
      "metadata": {},
      "source": [
        "**LIST OF OBJECTIVES:**\n",
        "- Add comments to code cells\n",
        "- Generate markdown cells\n",
        "- Format headings and content of markdown cells\n",
        "- Demonstrate adding ordered and unordered list to markdown cells"
      ]
    },
    {
      "attachments": {},
      "cell_type": "markdown",
      "metadata": {},
      "source": [
        "# H2:  Author: Angie Chamorro"
      ]
    },
    {
      "cell_type": "code",
      "execution_count": null,
      "metadata": {},
      "outputs": [],
      "source": []
    }
  ],
  "metadata": {
    "kernelspec": {
      "display_name": "Pyolite",
      "language": "python",
      "name": "python"
    },
    "language_info": {
      "codemirror_mode": {
        "name": "python",
        "version": 3
      },
      "file_extension": ".py",
      "mimetype": "text/x-python",
      "name": "python",
      "nbconvert_exporter": "python",
      "pygments_lexer": "ipython3",
      "version": "3.8"
    }
  },
  "nbformat": 4,
  "nbformat_minor": 4
}
